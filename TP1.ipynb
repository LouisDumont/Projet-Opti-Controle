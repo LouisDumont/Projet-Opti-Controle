{
 "cells": [
  {
   "cell_type": "code",
   "execution_count": 1,
   "metadata": {},
   "outputs": [],
   "source": [
    "# Nom du réseau\n",
    "nom = 'Realiste'\n",
    "\n",
    "# Dimensions du réseau\n",
    "n = 22\n",
    "m = 16\n",
    "mr = 3\n",
    "md = m - mr\n",
    "\n",
    "# Numéros des noeuds initiaux et finaux des arcs\n",
    "orig = [1, 2, 3, 4, 5, 6, 7, 8, 8, 9, 10, 11, 13, 1, 2, 4, 5, 7, 8, 14, 2, 10]\n",
    "dest = [4, 16, 15, 5, 6, 10, 16, 9, 12, 10, 11, 14, 15, 16, 6, 8, 9, 11, 13, 15, 4, 13]\n",
    "\n",
    "# Coordonnées des noeuds\n",
    "absn = [11, 18, 38, 4, 8, 15, 26, 4, 10, 19, 26, 7, 21, 33, 33, 16]\n",
    "ordn = [28, 21, 8, 21, 17, 17, 26, 9, 13, 13, 18, 4, 9, 18, 12, 24]\n",
    "\n",
    "# Résistances des arcs\n",
    "r = [100, 10, 1000, 100, 100, 10, 1000, 100, 1000, 100, 1000, 1000, 1000, 10, 10, 100 , 100, 1000, 100, 1000, 100, 10]\n",
    "\n",
    "# Pressions au pied des réservoirs (en m)\n",
    "pr = [105, 104, 110]\n",
    "\n",
    "# Flux aux noeuds de demande (en m3/s)\n",
    "fd = [+0.08, -1.30, +0.13, +0.09, +0.16, +0.14, +0.12, +0.07, +0.17, +0.11, +0.25, +0.01, +0.13]"
   ]
  },
  {
   "cell_type": "code",
   "execution_count": null,
   "metadata": {},
   "outputs": [],
   "source": []
  }
 ],
 "metadata": {
  "kernelspec": {
   "display_name": "Python 3",
   "language": "python",
   "name": "python3"
  },
  "language_info": {
   "codemirror_mode": {
    "name": "ipython",
    "version": 3
   },
   "file_extension": ".py",
   "mimetype": "text/x-python",
   "name": "python",
   "nbconvert_exporter": "python",
   "pygments_lexer": "ipython3",
   "version": "3.6.4"
  }
 },
 "nbformat": 4,
 "nbformat_minor": 2
}
